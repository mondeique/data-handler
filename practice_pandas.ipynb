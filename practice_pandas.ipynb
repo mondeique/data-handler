{
 "cells": [
  {
   "cell_type": "code",
   "execution_count": 1,
   "metadata": {},
   "outputs": [],
   "source": [
    "import tensorflow as tf\n",
    "import pandas as pd"
   ]
  },
  {
   "cell_type": "code",
   "execution_count": 1,
   "metadata": {},
   "outputs": [],
   "source": [
    "df = pd.read_csv('./data/bag_image_url_csv/bagshoes_all_bag.csv')\n",
    "\n",
    "new_df = df.T\n",
    "new_df.to_csv(\"./data/bag_image_url_csv/t_bagshoes_all_bag.csv\", mode='w')"
   ]
  },
  {
   "cell_type": "code",
   "execution_count": 2,
   "metadata": {},
   "outputs": [],
   "source": [
    "df = pd.read_csv('./data/bag_image_url_csv/beginning_all_bag.csv')\n",
    "\n",
    "new_df = df.T\n",
    "new_df.to_csv(\"./data/bag_image_url_csv/t_beginning_all_bag.csv\", mode='w')"
   ]
  },
  {
   "cell_type": "code",
   "execution_count": 3,
   "metadata": {},
   "outputs": [],
   "source": [
    "df = pd.read_csv('./data/bag_image_url_csv/bnburde_all_bag.csv')\n",
    "\n",
    "new_df = df.T\n",
    "new_df.to_csv(\"./data/bag_image_url_csv/t_bnburde_all_bag.csv\", mode='w')"
   ]
  },
  {
   "cell_type": "code",
   "execution_count": 4,
   "metadata": {},
   "outputs": [],
   "source": [
    "df = pd.read_csv('./data/bag_image_url_csv/comingbag_all_bag.csv')\n",
    "\n",
    "new_df = df.T\n",
    "new_df.to_csv(\"./data/bag_image_url_csv/t_comingbag_all_bag.csv\", mode='w')"
   ]
  },
  {
   "cell_type": "code",
   "execution_count": 5,
   "metadata": {},
   "outputs": [],
   "source": [
    "df = pd.read_csv('./data/bag_image_url_csv/gabangpop_all_bag.csv')\n",
    "\n",
    "new_df = df.T\n",
    "new_df.to_csv(\"./data/bag_image_url_csv/t_gabangpop_all_bag.csv\", mode='w')"
   ]
  },
  {
   "cell_type": "code",
   "execution_count": 6,
   "metadata": {},
   "outputs": [],
   "source": [
    "df = pd.read_csv('./data/bag_image_url_csv/jade_all_bag.csv')\n",
    "\n",
    "new_df = df.T\n",
    "new_df.to_csv(\"./data/bag_image_url_csv/t_jade_all_bag.csv\", mode='w')"
   ]
  },
  {
   "cell_type": "code",
   "execution_count": 7,
   "metadata": {},
   "outputs": [],
   "source": [
    "df = pd.read_csv('./data/bag_image_url_csv/Luzzi_all_bag.csv')\n",
    "\n",
    "new_df = df.T\n",
    "new_df.to_csv(\"./data/bag_image_url_csv/t_Luzzi_all_bag.csv\", mode='w')"
   ]
  },
  {
   "cell_type": "code",
   "execution_count": 8,
   "metadata": {},
   "outputs": [],
   "source": [
    "df = pd.read_csv('./data/bag_image_url_csv/mclanee_all_bag.csv')\n",
    "\n",
    "new_df = df.T\n",
    "new_df.to_csv(\"./data/bag_image_url_csv/t_mclanee_all_bag.csv\", mode='w')"
   ]
  },
  {
   "cell_type": "code",
   "execution_count": 9,
   "metadata": {},
   "outputs": [],
   "source": [
    "df = pd.read_csv('./data/bag_image_url_csv/mjade_all_bag.csv')\n",
    "\n",
    "new_df = df.T\n",
    "new_df.to_csv(\"./data/bag_image_url_csv/t_mjade_all_bag.csv\", mode='w')"
   ]
  },
  {
   "cell_type": "code",
   "execution_count": 10,
   "metadata": {},
   "outputs": [],
   "source": [
    "df = pd.read_csv('./data/bag_image_url_csv/PAU_all_bag.csv')\n",
    "\n",
    "new_df = df.T\n",
    "new_df.to_csv(\"./data/bag_image_url_csv/t_PAU_all_bag.csv\", mode='w')"
   ]
  },
  {
   "cell_type": "code",
   "execution_count": 11,
   "metadata": {},
   "outputs": [],
   "source": [
    "df = pd.read_csv('./data/bag_image_url_csv/pinkbag_all_bag.csv')\n",
    "\n",
    "new_df = df.T\n",
    "new_df.to_csv(\"./data/bag_image_url_csv/t_pinkbag_all_bag.csv\", mode='w')"
   ]
  },
  {
   "cell_type": "code",
   "execution_count": 12,
   "metadata": {},
   "outputs": [],
   "source": [
    "df = pd.read_csv('./data/bag_image_url_csv/whosbag_all_bag.csv')\n",
    "\n",
    "new_df = df.T\n",
    "new_df.to_csv(\"./data/bag_image_url_csv/t_whosbag_all_bag.csv\", mode='w')"
   ]
  },
  {
   "cell_type": "code",
   "execution_count": 2,
   "metadata": {},
   "outputs": [],
   "source": [
    "df = pd.read_csv('./data/bag_image_url_csv/mybag_all_bag.csv')\n",
    "\n",
    "new_df = df.T\n",
    "new_df.to_csv(\"./data/bag_image_url_csv/t_mybag_all_bag.csv\", mode='w')"
   ]
  },
  {
   "cell_type": "code",
   "execution_count": 2,
   "metadata": {},
   "outputs": [],
   "source": [
    "df = pd.read_csv('./data/bag_image_url_csv/ck_all_bag.csv')\n",
    "\n",
    "new_df = df.T\n",
    "new_df.to_csv(\"./data/bag_image_url_csv/t_ck_all_bag.csv\", mode='w')"
   ]
  },
  {
   "cell_type": "code",
   "execution_count": 5,
   "metadata": {},
   "outputs": [],
   "source": [
    "df = pd.read_csv('./data/bag_image_url_csv/bana_all_bag.csv')\n",
    "\n",
    "new_df = df.T\n",
    "new_df.to_csv(\"./data/bag_image_url_csv/t_bana_all_bag.csv\", mode='w')"
   ]
  }
 ],
 "metadata": {
  "kernelspec": {
   "display_name": "Python 3",
   "language": "python",
   "name": "python3"
  },
  "language_info": {
   "codemirror_mode": {
    "name": "ipython",
    "version": 3
   },
   "file_extension": ".py",
   "mimetype": "text/x-python",
   "name": "python",
   "nbconvert_exporter": "python",
   "pygments_lexer": "ipython3",
   "version": "3.7.3"
  }
 },
 "nbformat": 4,
 "nbformat_minor": 2
}
