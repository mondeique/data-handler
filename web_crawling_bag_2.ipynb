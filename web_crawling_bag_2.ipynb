{
 "cells": [
  {
   "cell_type": "markdown",
   "metadata": {},
   "source": [
    "# MYBAG web crawling"
   ]
  },
  {
   "cell_type": "code",
   "execution_count": 1,
   "metadata": {
    "scrolled": true
   },
   "outputs": [
    {
     "name": "stdout",
     "output_type": "stream",
     "text": [
      "---------------------------------------------------------------------------\n",
      "모든 백 사진 url 다운로드를 시작합니다\n",
      "---------------------------------------------------------------------------\n",
      "\n",
      "\n",
      "1번째 페이지 이미지를 다운로드 중입니다!\n",
      "2번째 페이지 이미지를 다운로드 중입니다!\n",
      "3번째 페이지 이미지를 다운로드 중입니다!\n",
      "4번째 페이지 이미지를 다운로드 중입니다!\n",
      "5번째 페이지 이미지를 다운로드 중입니다!\n",
      "6번째 페이지 이미지를 다운로드 중입니다!\n",
      "7번째 페이지 이미지를 다운로드 중입니다!\n",
      "8번째 페이지 이미지를 다운로드 중입니다!\n",
      "9번째 페이지 이미지를 다운로드 중입니다!\n",
      "10번째 페이지 이미지를 다운로드 중입니다!\n",
      "11번째 페이지 이미지를 다운로드 중입니다!\n",
      "12번째 페이지 이미지를 다운로드 중입니다!\n",
      "13번째 페이지 이미지를 다운로드 중입니다!\n",
      "14번째 페이지 이미지를 다운로드 중입니다!\n",
      "15번째 페이지 이미지를 다운로드 중입니다!\n",
      "16번째 페이지 이미지를 다운로드 중입니다!\n",
      "17번째 페이지 이미지를 다운로드 중입니다!\n",
      "18번째 페이지 이미지를 다운로드 중입니다!\n",
      "19번째 페이지 이미지를 다운로드 중입니다!\n",
      "20번째 페이지 이미지를 다운로드 중입니다!\n",
      "21번째 페이지 이미지를 다운로드 중입니다!\n",
      "22번째 페이지 이미지를 다운로드 중입니다!\n",
      "23번째 페이지 이미지를 다운로드 중입니다!\n",
      "24번째 페이지 이미지를 다운로드 중입니다!\n"
     ]
    }
   ],
   "source": [
    "## All bag\n",
    "\n",
    "from bs4 import BeautifulSoup \n",
    "from urllib.request import urlopen \n",
    "import time\n",
    "\n",
    "print(\"---------------------------------------------------------------------------\")\n",
    "print(\"모든 백 사진 url 다운로드를 시작합니다\")\n",
    "print(\"---------------------------------------------------------------------------\")\n",
    "print(\"\\n\")\n",
    "\n",
    "current_page = 1\n",
    "\n",
    "img_url_list = []\n",
    "\n",
    "while current_page <= 24:\n",
    "    print(str(current_page) + \"번째 페이지 이미지를 다운로드 중입니다!\")\n",
    "    url = 'https://www.mybag.com/women/bags.list?productsPerPage=66' + '&pageNumber=' + str(current_page)\n",
    "    web = urlopen(url)\n",
    "    source = BeautifulSoup(web, 'html.parser')\n",
    "    for a in source.find_all('div', {\"class\" : \"productBlock_imageContainer\" }):\n",
    "        for url in a.find_all(\"img\"):\n",
    "            if url[\"src\"].startswith('https://s'):\n",
    "                img_url_list.append(url[\"src\"])\n",
    "                \n",
    "    current_page = current_page + 1            \n",
    "    time.sleep(5)\n",
    "\n",
    "\n",
    "mybag_img_url_list = list(set(img_url_list))\n",
    "\n",
    "mybag_img_url_list\n",
    "\n",
    "mybag_img_url_list = list(set(mybag_img_url_list))\n",
    "\n",
    "len(mybag_img_url_list)\n",
    "\n",
    "## write to csv file\n",
    "\n",
    "import csv\n",
    "import pandas as pd\n",
    "\n",
    "with open('./data/bag_image_url_csv/mybag_all_bag.csv', 'w', newline='') as f:\n",
    "    writer = csv.writer(f, quoting=csv.QUOTE_ALL)\n",
    "    writer.writerow(mybag_img_url_list)"
   ]
  },
  {
   "cell_type": "markdown",
   "metadata": {},
   "source": [
    "# CHARLES & KEITH web crawling"
   ]
  },
  {
   "cell_type": "code",
   "execution_count": 4,
   "metadata": {},
   "outputs": [
    {
     "name": "stdout",
     "output_type": "stream",
     "text": [
      "---------------------------------------------------------------------------\n",
      "모든 백 사진 url 다운로드를 시작합니다\n",
      "---------------------------------------------------------------------------\n",
      "\n",
      "\n",
      "1번째 페이지 이미지를 다운로드 중입니다!\n",
      "2번째 페이지 이미지를 다운로드 중입니다!\n",
      "3번째 페이지 이미지를 다운로드 중입니다!\n",
      "4번째 페이지 이미지를 다운로드 중입니다!\n",
      "5번째 페이지 이미지를 다운로드 중입니다!\n",
      "6번째 페이지 이미지를 다운로드 중입니다!\n",
      "7번째 페이지 이미지를 다운로드 중입니다!\n",
      "8번째 페이지 이미지를 다운로드 중입니다!\n"
     ]
    }
   ],
   "source": [
    "## All bag\n",
    "\n",
    "print(\"---------------------------------------------------------------------------\")\n",
    "print(\"모든 백 사진 url 다운로드를 시작합니다\")\n",
    "print(\"---------------------------------------------------------------------------\")\n",
    "print(\"\\n\")\n",
    "\n",
    "current_page = 1\n",
    "\n",
    "img_url_list = []\n",
    "\n",
    "while current_page <= 8:\n",
    "    print(str(current_page) + \"번째 페이지 이미지를 다운로드 중입니다!\")\n",
    "    url = 'https://www.charleskeith.com/sg/bags' + '?p=' + str(current_page)\n",
    "    web = urlopen(url)\n",
    "    source = BeautifulSoup(web, 'html.parser')\n",
    "    for a in source.find_all('div', {\"class\" : \"pcp-owl-carousel owl-carousel\" }):\n",
    "        for url in a.find_all(\"img\"):\n",
    "            if url[\"src\"].startswith('https://d3qsystxi9mvxa.cloudfront.net/media/'):\n",
    "                img_url_list.append(url[\"src\"])\n",
    "                \n",
    "    current_page = current_page + 1            \n",
    "    time.sleep(5)\n",
    "\n",
    "\n",
    "ck_img_url_list = list(set(img_url_list))\n",
    "\n",
    "ck_img_url_list\n",
    "\n",
    "ck_img_url_list = list(set(ck_img_url_list))\n",
    "\n",
    "len(ck_img_url_list)\n",
    "\n",
    "## write to csv file\n",
    "\n",
    "import csv\n",
    "\n",
    "with open('./data/bag_image_url_csv/ck_all_bag.csv', 'w', newline='') as f:\n",
    "    writer = csv.writer(f, quoting=csv.QUOTE_ALL)\n",
    "    writer.writerow(ck_img_url_list)"
   ]
  },
  {
   "cell_type": "markdown",
   "metadata": {},
   "source": [
    "# BANABANAMALL web crawling"
   ]
  },
  {
   "cell_type": "code",
   "execution_count": 54,
   "metadata": {},
   "outputs": [
    {
     "name": "stdout",
     "output_type": "stream",
     "text": [
      "---------------------------------------------------------------------------\n",
      "모든 백 사진 url 다운로드를 시작합니다\n",
      "---------------------------------------------------------------------------\n",
      "\n",
      "\n",
      "1번째 페이지 이미지를 다운로드 중입니다!\n",
      "2번째 페이지 이미지를 다운로드 중입니다!\n",
      "3번째 페이지 이미지를 다운로드 중입니다!\n",
      "4번째 페이지 이미지를 다운로드 중입니다!\n"
     ]
    }
   ],
   "source": [
    "## All bag\n",
    "\n",
    "print(\"---------------------------------------------------------------------------\")\n",
    "print(\"모든 백 사진 url 다운로드를 시작합니다\")\n",
    "print(\"---------------------------------------------------------------------------\")\n",
    "print(\"\\n\")\n",
    "\n",
    "current_page = 1\n",
    "\n",
    "img_url_list = []\n",
    "\n",
    "while current_page <= 4:\n",
    "    print(str(current_page) + \"번째 페이지 이미지를 다운로드 중입니다!\")\n",
    "    url = 'http://www.banabanamall.com/shop/goods/goods_list.php?category=028002' + '&page=' + str(current_page)\n",
    "    web = urlopen(url)\n",
    "    source = BeautifulSoup(web, 'html.parser')\n",
    "    for a in source.find_all('div', {\"class\" : \"img\" }):\n",
    "        for url in a.find_all(\"img\"):\n",
    "            if url[\"src\"].startswith('../data/goods/'):\n",
    "                img_url_list.append('http://www.banabanamall.com/shop/' + url[\"src\"][3:])\n",
    "                \n",
    "    current_page = current_page + 1            \n",
    "    time.sleep(5)\n",
    "\n",
    "current_page = 1\n",
    "\n",
    "while current_page <= 8:\n",
    "    print(str(current_page) + \"번째 페이지 이미지를 다운로드 중입니다!\")\n",
    "    url = 'http://www.banabanamall.com/shop/goods/goods_list.php?category=028001' + '&page=' + str(current_page)\n",
    "    web = urlopen(url)\n",
    "    source = BeautifulSoup(web, 'html.parser')\n",
    "    for a in source.find_all('div', {\"class\" : \"img\" }):\n",
    "        for url in a.find_all(\"img\"):\n",
    "            if url[\"src\"].startswith('../data/goods/'):\n",
    "                img_url_list.append('http://www.banabanamall.com/shop/' + url[\"src\"][3:])\n",
    "                \n",
    "    current_page = current_page + 1            \n",
    "    time.sleep(5)\n",
    "\n",
    "current_page = 1\n",
    "\n",
    "while current_page <= 8:\n",
    "    print(str(current_page) + \"번째 페이지 이미지를 다운로드 중입니다!\")\n",
    "    url = 'http://www.banabanamall.com/shop/goods/goods_list.php?category=023' + '&page=' + str(current_page)\n",
    "    web = urlopen(url)\n",
    "    source = BeautifulSoup(web, 'html.parser')\n",
    "    for a in source.find_all('div', {\"class\" : \"img\" }):\n",
    "        for url in a.find_all(\"img\"):\n",
    "            if url[\"src\"].startswith('../data/goods/'):\n",
    "                img_url_list.append('http://www.banabanamall.com/shop/' + url[\"src\"][3:])\n",
    "                \n",
    "    current_page = current_page + 1            \n",
    "    time.sleep(5)\n",
    "\n",
    "current_page = 1\n",
    "\n",
    "while current_page <= 12:\n",
    "    print(str(current_page) + \"번째 페이지 이미지를 다운로드 중입니다!\")\n",
    "    url = 'http://www.banabanamall.com/shop/goods/goods_list.php?&category=026' + '&page=' + str(current_page)\n",
    "    web = urlopen(url)\n",
    "    source = BeautifulSoup(web, 'html.parser')\n",
    "    for a in source.find_all('div', {\"class\" : \"img\" }):\n",
    "        for url in a.find_all(\"img\"):\n",
    "            if url[\"src\"].startswith('../data/goods/'):\n",
    "                img_url_list.append('http://www.banabanamall.com/shop/' + url[\"src\"][3:])\n",
    "                \n",
    "    current_page = current_page + 1            \n",
    "    time.sleep(5)\n",
    "\n",
    "current_page = 1\n",
    "\n",
    "while current_page <= 1:\n",
    "    print(str(current_page) + \"번째 페이지 이미지를 다운로드 중입니다!\")\n",
    "    url = 'http://www.banabanamall.com/shop/goods/goods_list.php?category=029&sort=goods_link.sort&page_num=48'\n",
    "    web = urlopen(url)\n",
    "    source = BeautifulSoup(web, 'html.parser')\n",
    "    for a in source.find_all('div', {\"class\" : \"img\" }):\n",
    "        for url in a.find_all(\"img\"):\n",
    "            if url[\"src\"].startswith('../data/goods/'):\n",
    "                img_url_list.append('http://www.banabanamall.com/shop/' + url[\"src\"][3:])\n",
    "                \n",
    "    current_page = current_page + 1            \n",
    "    time.sleep(5)\n",
    "\n",
    "img_url_list\n",
    "\n",
    "bana_list = list(set(img_url_list))\n",
    "\n",
    "len(bana_list)\n",
    "\n",
    "## write to csv file\n",
    "\n",
    "import csv\n",
    "\n",
    "with open('./data/bag_image_url_csv/bana_all_bag.csv', 'w', newline='') as f:\n",
    "    writer = csv.writer(f, quoting=csv.QUOTE_ALL)\n",
    "    writer.writerow(bana_list)"
   ]
  },
  {
   "cell_type": "markdown",
   "metadata": {},
   "source": [
    "# 번개장터 "
   ]
  },
  {
   "cell_type": "code",
   "execution_count": 3,
   "metadata": {},
   "outputs": [
    {
     "name": "stdout",
     "output_type": "stream",
     "text": [
      "---------------------------------------------------------------------------\n",
      "모든 백 사진 url 다운로드를 시작합니다\n",
      "---------------------------------------------------------------------------\n",
      "\n",
      "\n"
     ]
    },
    {
     "data": {
      "text/plain": [
       "\n",
       "<!DOCTYPE html>\n",
       "\n",
       "<html>\n",
       "<head>\n",
       "<!--[if lte IE 9]>\n",
       "    <script>\n",
       "        location.replace('/static/mobile/page/ie8_information.html');\n",
       "    </script>\n",
       "    <![endif]-->\n",
       "<meta charset=\"utf-8\"/>\n",
       "<meta content=\"width=device-width,initial-scale=1\" name=\"viewport\"/>\n",
       "<meta content=\"중고 물품 거래 사이트. 의류, 명품, 가방, 아이돌 굿즈, PC, 그래픽카드, 자전거, 픽시, 헬스기구, 운동기구, 런닝머신, 유아용품, 장난감, 유모차, 아기침대, 카시트 등 직거래 택배 거래 안전 결제 가능.\" name=\"description\">\n",
       "<meta content=\"번개장터,번장,마켓,중고나라,Market,중고카페,C2C,연예인용품,스타굿즈,오픈마켓,저렴,개인간 거래,중고장터,알뜰장터,중고폰,엑소,픽시,중고시장,중고마켓,직거래,벼룩시장,벼룩장터,중고,중고상품,중고아이템,중고품,중고물품 거래,무료 나눔,물물교환,렌트,장터,쇼핑,프리마켓,중고쇼핑 등\" name=\"keywords\">\n",
       "<meta content=\"번개장터\" property=\"og:title\"/>\n",
       "<meta content=\"https://m.bunjang.co.kr\" property=\"og:url\"/>\n",
       "<meta content=\"중고거래사이트, 번장 사기탐지시스템, 픽시/스타굿즈/패션/중고차/스마트폰..\" property=\"og:description\"/>\n",
       "<meta content=\"http://dbgl6r3fnusyg.cloudfront.net/bunjang/bunjang_logo_200x200.png\" property=\"og:image\"/>\n",
       "<meta content=\"JEB5ISyd0B48XEYX_Zbc0Hg_3wNVquA_so8lGZpS2Aw\" name=\"google-site-verification\"/>\n",
       "<meta content=\"be5055aefad0219f41d534bfc242fb801ac59429\" name=\"naver-site-verification\"/>\n",
       "<meta content=\"summary\" name=\"twitter:card\"/>\n",
       "<meta content=\"번개장터\" name=\"twitter:title\">\n",
       "<meta content=\"https://m.bunjang.co.kr\" name=\"twitter:url\"/>\n",
       "<meta content=\"https://m.bunjang.co.kr/static/mobile/images/common/logo.png\" name=\"twitter:image\"/>\n",
       "<meta content=\"모바일 중고거래 1등 어플\" name=\"twitter:description\"/>\n",
       "<meta content=\"text/javascript\" http-equiv=\"Content-Script-Type\"/>\n",
       "<meta content=\"text/css\" http-equiv=\"Content-Style-Type\"/>\n",
       "<meta content=\"IE=edge\" http-equiv=\"X-UA-Compatible\"/><script type=\"text/javascript\">window.NREUM||(NREUM={}),__nr_require=function(e,n,t){function r(t){if(!n[t]){var o=n[t]={exports:{}};e[t][0].call(o.exports,function(n){var o=e[t][1][n];return r(o||n)},o,o.exports)}return n[t].exports}if(\"function\"==typeof __nr_require)return __nr_require;for(var o=0;o<t.length;o++)r(t[o]);return r}({1:[function(e,n,t){function r(){}function o(e,n,t){return function(){return i(e,[c.now()].concat(u(arguments)),n?null:this,t),n?void 0:this}}var i=e(\"handle\"),a=e(3),u=e(4),f=e(\"ee\").get(\"tracer\"),c=e(\"loader\"),s=NREUM;\"undefined\"==typeof window.newrelic&&(newrelic=s);var p=[\"setPageViewName\",\"setCustomAttribute\",\"setErrorHandler\",\"finished\",\"addToTrace\",\"inlineHit\",\"addRelease\"],d=\"api-\",l=d+\"ixn-\";a(p,function(e,n){s[n]=o(d+n,!0,\"api\")}),s.addPageAction=o(d+\"addPageAction\",!0),s.setCurrentRouteName=o(d+\"routeName\",!0),n.exports=newrelic,s.interaction=function(){return(new r).get()};var m=r.prototype={createTracer:function(e,n){var t={},r=this,o=\"function\"==typeof n;return i(l+\"tracer\",[c.now(),e,t],r),function(){if(f.emit((o?\"\":\"no-\")+\"fn-start\",[c.now(),r,o],t),o)try{return n.apply(this,arguments)}catch(e){throw f.emit(\"fn-err\",[arguments,this,e],t),e}finally{f.emit(\"fn-end\",[c.now()],t)}}}};a(\"actionText,setName,setAttribute,save,ignore,onEnd,getContext,end,get\".split(\",\"),function(e,n){m[n]=o(l+n)}),newrelic.noticeError=function(e,n){\"string\"==typeof e&&(e=new Error(e)),i(\"err\",[e,c.now(),!1,n])}},{}],2:[function(e,n,t){function r(e,n){if(!o)return!1;if(e!==o)return!1;if(!n)return!0;if(!i)return!1;for(var t=i.split(\".\"),r=n.split(\".\"),a=0;a<r.length;a++)if(r[a]!==t[a])return!1;return!0}var o=null,i=null,a=/Version\\/(\\S+)\\s+Safari/;if(navigator.userAgent){var u=navigator.userAgent,f=u.match(a);f&&u.indexOf(\"Chrome\")===-1&&u.indexOf(\"Chromium\")===-1&&(o=\"Safari\",i=f[1])}n.exports={agent:o,version:i,match:r}},{}],3:[function(e,n,t){function r(e,n){var t=[],r=\"\",i=0;for(r in e)o.call(e,r)&&(t[i]=n(r,e[r]),i+=1);return t}var o=Object.prototype.hasOwnProperty;n.exports=r},{}],4:[function(e,n,t){function r(e,n,t){n||(n=0),\"undefined\"==typeof t&&(t=e?e.length:0);for(var r=-1,o=t-n||0,i=Array(o<0?0:o);++r<o;)i[r]=e[n+r];return i}n.exports=r},{}],5:[function(e,n,t){n.exports={exists:\"undefined\"!=typeof window.performance&&window.performance.timing&&\"undefined\"!=typeof window.performance.timing.navigationStart}},{}],ee:[function(e,n,t){function r(){}function o(e){function n(e){return e&&e instanceof r?e:e?f(e,u,i):i()}function t(t,r,o,i){if(!d.aborted||i){e&&e(t,r,o);for(var a=n(o),u=v(t),f=u.length,c=0;c<f;c++)u[c].apply(a,r);var p=s[y[t]];return p&&p.push([b,t,r,a]),a}}function l(e,n){h[e]=v(e).concat(n)}function m(e,n){var t=h[e];if(t)for(var r=0;r<t.length;r++)t[r]===n&&t.splice(r,1)}function v(e){return h[e]||[]}function g(e){return p[e]=p[e]||o(t)}function w(e,n){c(e,function(e,t){n=n||\"feature\",y[t]=n,n in s||(s[n]=[])})}var h={},y={},b={on:l,addEventListener:l,removeEventListener:m,emit:t,get:g,listeners:v,context:n,buffer:w,abort:a,aborted:!1};return b}function i(){return new r}function a(){(s.api||s.feature)&&(d.aborted=!0,s=d.backlog={})}var u=\"nr@context\",f=e(\"gos\"),c=e(3),s={},p={},d=n.exports=o();d.backlog=s},{}],gos:[function(e,n,t){function r(e,n,t){if(o.call(e,n))return e[n];var r=t();if(Object.defineProperty&&Object.keys)try{return Object.defineProperty(e,n,{value:r,writable:!0,enumerable:!1}),r}catch(i){}return e[n]=r,r}var o=Object.prototype.hasOwnProperty;n.exports=r},{}],handle:[function(e,n,t){function r(e,n,t,r){o.buffer([e],r),o.emit(e,n,t)}var o=e(\"ee\").get(\"handle\");n.exports=r,r.ee=o},{}],id:[function(e,n,t){function r(e){var n=typeof e;return!e||\"object\"!==n&&\"function\"!==n?-1:e===window?0:a(e,i,function(){return o++})}var o=1,i=\"nr@id\",a=e(\"gos\");n.exports=r},{}],loader:[function(e,n,t){function r(){if(!E++){var e=x.info=NREUM.info,n=l.getElementsByTagName(\"script\")[0];if(setTimeout(s.abort,3e4),!(e&&e.licenseKey&&e.applicationID&&n))return s.abort();c(y,function(n,t){e[n]||(e[n]=t)}),f(\"mark\",[\"onload\",a()+x.offset],null,\"api\");var t=l.createElement(\"script\");t.src=\"https://\"+e.agent,n.parentNode.insertBefore(t,n)}}function o(){\"complete\"===l.readyState&&i()}function i(){f(\"mark\",[\"domContent\",a()+x.offset],null,\"api\")}function a(){return O.exists&&performance.now?Math.round(performance.now()):(u=Math.max((new Date).getTime(),u))-x.offset}var u=(new Date).getTime(),f=e(\"handle\"),c=e(3),s=e(\"ee\"),p=e(2),d=window,l=d.document,m=\"addEventListener\",v=\"attachEvent\",g=d.XMLHttpRequest,w=g&&g.prototype;NREUM.o={ST:setTimeout,SI:d.setImmediate,CT:clearTimeout,XHR:g,REQ:d.Request,EV:d.Event,PR:d.Promise,MO:d.MutationObserver};var h=\"\"+location,y={beacon:\"bam.nr-data.net\",errorBeacon:\"bam.nr-data.net\",agent:\"js-agent.newrelic.com/nr-1130.min.js\"},b=g&&w&&w[m]&&!/CriOS/.test(navigator.userAgent),x=n.exports={offset:u,now:a,origin:h,features:{},xhrWrappable:b,userAgent:p};e(1),l[m]?(l[m](\"DOMContentLoaded\",i,!1),d[m](\"load\",r,!1)):(l[v](\"onreadystatechange\",o),d[v](\"onload\",r)),f(\"mark\",[\"firstbyte\",u],null,\"api\");var E=0,O=e(5)},{}]},{},[\"loader\"]);</script><script type=\"text/javascript\">window.NREUM||(NREUM={});NREUM.info={\"applicationTime\":5,\"queueTime\":0,\"agent\":\"\",\"applicationID\":\"289437974\",\"licenseKey\":\"acc1d780c7\",\"beacon\":\"bam.nr-data.net\",\"errorBeacon\":\"bam.nr-data.net\",\"transactionName\":\"MwcBNxFVV0JQVBBeDQpNJRYNV01YXllLVRcKDBo8DltbWF1SSkELARUQTRBRWENSX15HEAsGFgAXRw==\"}</script>\n",
       "<meta content=\"bunjang\" name=\"apple-mobile-web-app-title\">\n",
       "<meta charset=\"utf-8\">\n",
       "<title>1위 중고장터 - 번개장터</title>\n",
       "<link href=\"https://assets.bunjang.co.kr/static/bundle/css/d2aa930fac52.css\" rel=\"stylesheet\" type=\"text/css\"/>\n",
       "<link href=\"https://assets.bunjang.co.kr/static/favicon.ico\" rel=\"shortcut icon\" type=\"image/x-icon\"/>\n",
       "<script src=\"//static.nid.naver.com/js/naverLogin_implicit-1.0.3.js\"></script>\n",
       "<script src=\"//developers.kakao.com/sdk/js/kakao.min.js\"></script>\n",
       "<script async=\"\" defer=\"\" src=\"https://connect.facebook.net/en_US/sdk.js\"></script>\n",
       "<script src=\"https://ssl.pstatic.net/adimg3.search/adpost/js/adpost_show_ads_v2.min.js\" type=\"text/javascript\"></script>\n",
       "</meta></meta></meta></meta></meta></head>\n",
       "<body>\n",
       "<div id=\"app\"></div>\n",
       "<script>\n",
       "        window.VUE_DATA = {\"session_key\": \"\", \"uid\": \"\"};\n",
       "        window.PAY_BASE_URL = \"https://pay.bunjang.co.kr\";\n",
       "    </script>\n",
       "<script type=\"text/javascript\">\n",
       "    if(/MSIE \\d|Trident.*rv:/.test(navigator.userAgent))\n",
       "        document.write('<script src=\"https://cdnjs.cloudflare.com/ajax/libs/babel-polyfill/6.26.0/polyfill.min.js\"><\\/script>');\n",
       "    </script>\n",
       "<script src=\"https://assets.bunjang.co.kr/static/bundle/js/c6d727d2aa83.js\" type=\"text/javascript\"></script>\n",
       "<script src=\"https://assets.bunjang.co.kr/static/bundle/js/04d82b41f79d.js\" type=\"text/javascript\"></script>\n",
       "<script src=\"https://assets.bunjang.co.kr/static/bundle/js/b9fdb0033fc3.js\" type=\"text/javascript\"></script>\n",
       "</body>\n",
       "</html>"
      ]
     },
     "execution_count": 3,
     "metadata": {},
     "output_type": "execute_result"
    }
   ],
   "source": [
    "from bs4 import BeautifulSoup \n",
    "from urllib.request import urlopen \n",
    "import time\n",
    "\n",
    "print(\"---------------------------------------------------------------------------\")\n",
    "print(\"모든 백 사진 url 다운로드를 시작합니다\")\n",
    "print(\"---------------------------------------------------------------------------\")\n",
    "print(\"\\n\")\n",
    "\n",
    "current_page = 1\n",
    "\n",
    "img_url_list = []\n",
    "\n",
    "url = 'https://m.bunjang.co.kr/search/products?q=%EC%97%AC%EC%84%B1%EA%B0%80%EB%B0%A9&order=date&page=' + str(current_page)\n",
    "web = urlopen(url)\n",
    "source = BeautifulSoup(web, 'html.parser')\n",
    "source\n",
    "# while current_page <= 1:\n",
    "#     print(str(current_page) + \"번째 페이지 이미지를 다운로드 중입니다!\")\n",
    "#     url = 'https://m.bunjang.co.kr/search/products?q=%EC%97%AC%EC%84%B1%EA%B0%80%EB%B0%A9&order=date&page=' + str(current_page)\n",
    "#     web = urlopen(url)\n",
    "#     source = BeautifulSoup(web, 'html.parser')\n",
    "#     source.find_all('div', {\"class\" : \"product-img\"})\n",
    "#     for a in source.find_all('div', {\"class\" : \"product-img\"}):\n",
    "\n",
    "#         for url in a.find_all(\"img\"):\n",
    "#             if url[\"src\"].startswith(\"https://seoul-p-studio\"):\n",
    "#                 img_url_list.append(url[\"src\"])\n",
    "                \n",
    "#     current_page = current_page + 1            \n",
    "#     time.sleep(5)\n"
   ]
  },
  {
   "cell_type": "code",
   "execution_count": null,
   "metadata": {},
   "outputs": [],
   "source": [
    "b"
   ]
  },
  {
   "cell_type": "code",
   "execution_count": 2,
   "metadata": {},
   "outputs": [
    {
     "data": {
      "text/plain": [
       "[]"
      ]
     },
     "execution_count": 2,
     "metadata": {},
     "output_type": "execute_result"
    }
   ],
   "source": [
    "img_url_list"
   ]
  },
  {
   "cell_type": "code",
   "execution_count": 3,
   "metadata": {},
   "outputs": [],
   "source": [
    "bungae_list = img_url_list"
   ]
  },
  {
   "cell_type": "code",
   "execution_count": 4,
   "metadata": {},
   "outputs": [],
   "source": [
    "bungae_list = list(set(bungae_list))"
   ]
  },
  {
   "cell_type": "code",
   "execution_count": 5,
   "metadata": {},
   "outputs": [
    {
     "data": {
      "text/plain": [
       "[]"
      ]
     },
     "execution_count": 5,
     "metadata": {},
     "output_type": "execute_result"
    }
   ],
   "source": [
    "bungae_list"
   ]
  }
 ],
 "metadata": {
  "kernelspec": {
   "display_name": "Python 3",
   "language": "python",
   "name": "python3"
  },
  "language_info": {
   "codemirror_mode": {
    "name": "ipython",
    "version": 3
   },
   "file_extension": ".py",
   "mimetype": "text/x-python",
   "name": "python",
   "nbconvert_exporter": "python",
   "pygments_lexer": "ipython3",
   "version": "3.7.3"
  }
 },
 "nbformat": 4,
 "nbformat_minor": 2
}
